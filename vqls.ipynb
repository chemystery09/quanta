{
 "cells": [
  {
   "cell_type": "code",
   "execution_count": 1,
   "id": "5d488e68",
   "metadata": {},
   "outputs": [],
   "source": [
    "import networkx as nx\n",
    "import matplotlib.pyplot as plt\n",
    "import os\n",
    "from dotenv import load_dotenv\n",
    "from pymatgen.ext.matproj import MPRester\n",
    "import numpy as np\n"
   ]
  },
  {
   "cell_type": "code",
   "execution_count": 2,
   "id": "e590b44c",
   "metadata": {},
   "outputs": [
    {
     "name": "stderr",
     "output_type": "stream",
     "text": [
      "C:\\Users\\Ishara\\AppData\\Roaming\\Python\\Python312\\site-packages\\classiq\\_internals\\authentication\\token_manager.py:101: UserWarning: Device is already registered.\n",
      "Generating a new refresh token should only be done if the current refresh token is compromised.\n",
      "To do so, set the overwrite parameter to true\n",
      "  warnings.warn(\n"
     ]
    }
   ],
   "source": [
    "import classiq\n",
    "classiq.authenticate()"
   ]
  },
  {
   "cell_type": "code",
   "execution_count": 3,
   "id": "eabdb8da",
   "metadata": {},
   "outputs": [],
   "source": [
    "n = 4\n",
    "load_dotenv()\n",
    "api_key = os.getenv(\"MPRESTER_API_KEY\")\n",
    "\n",
    "def get_material(id=\"mp-66\"):\n",
    "    with MPRester(api_key) as m:\n",
    "        results = m.summary.search(material_ids=[id], fields=[\"material_id\", \"bulk_modulus\", \"shear_modulus\"])\n",
    "        for item in results:\n",
    "            print(f\"Material ID: {item.material_id}\")\n",
    "            print(f\"Bulk Modulus (GPa): {item.bulk_modulus}\")\n",
    "            print(f\"Shear Modulus (GPa): {item.shear_modulus}\")\n",
    "    return (item.bulk_modulus['vrh'], item.shear_modulus['vrh'])\n",
    "\n"
   ]
  },
  {
   "cell_type": "code",
   "execution_count": 4,
   "id": "6b453b5b",
   "metadata": {},
   "outputs": [],
   "source": [
    "# Step 1: Generate a mesh grid and its stiffness matrix\n",
    "\n",
    "def generate_grid_stiffness(n, bulk_modulus, shear_modulus, h=0.34e-9, delta=1.0):\n",
    "    \"\"\"\n",
    "    Generate a stiffness matrix for a 2D grid using real material properties.\n",
    "    Inputs:\n",
    "    - n: grid size (n x n)\n",
    "    - bulk_modulus: K (Pa)\n",
    "    - shear_modulus: G (Pa)\n",
    "    - h: thickness of the material (m)\n",
    "    - delta: grid spacing (m)\n",
    "    \"\"\"\n",
    "    size = n * n\n",
    "    A = np.zeros((size, size))\n",
    "    f = np.zeros((size,))\n",
    "\n",
    "    # Compute effective Young's modulus\n",
    "    E = (9 * bulk_modulus * shear_modulus) / (3 * bulk_modulus + shear_modulus)\n",
    "\n",
    "    # Scale stiffness value per node interaction\n",
    "    stiffness = E / h * (1 / delta**2)\n",
    "\n",
    "    for i in range(size):\n",
    "        A[i][i] = 4 * stiffness  # main diagonal (4 neighbors)\n",
    "        if i - 1 >= 0 and (i % n != 0):  # left neighbor\n",
    "            A[i][i - 1] = -stiffness\n",
    "        if i + 1 < size and ((i + 1) % n != 0):  # right neighbor\n",
    "            A[i][i + 1] = -stiffness\n",
    "        if i - n >= 0:  # top neighbor\n",
    "            A[i][i - n] = -stiffness\n",
    "        if i + n < size:  # bottom neighbor\n",
    "            A[i][i + n] = -stiffness\n",
    "\n",
    "    # Apply external force at the center\n",
    "    center = size // 2\n",
    "    f[center] = -10.0  # Newtons, for example\n",
    "\n",
    "    return A, f\n"
   ]
  },
  {
   "cell_type": "code",
   "execution_count": 5,
   "id": "1c7376c5",
   "metadata": {},
   "outputs": [],
   "source": [
    "def plot_displacement(u, n):\n",
    "    X, Y = np.meshgrid(range(n), range(n))\n",
    "    U = u.reshape((n, n))\n",
    "    fig = plt.figure()\n",
    "    ax = fig.add_subplot(projection='3d')\n",
    "    ax.plot_surface(X, Y, U, cmap='viridis')\n",
    "    ax.set_title(\"Displacement Profile\")\n",
    "    plt.show()\n"
   ]
  },
  {
   "cell_type": "code",
   "execution_count": 6,
   "id": "52d2de9b",
   "metadata": {},
   "outputs": [
    {
     "name": "stderr",
     "output_type": "stream",
     "text": [
      "C:\\Users\\Ishara\\AppData\\Roaming\\Python\\Python312\\site-packages\\tqdm\\auto.py:21: TqdmWarning: IProgress not found. Please update jupyter and ipywidgets. See https://ipywidgets.readthedocs.io/en/stable/user_install.html\n",
      "  from .autonotebook import tqdm as notebook_tqdm\n",
      "C:\\Users\\Ishara\\AppData\\Local\\Temp\\ipykernel_7164\\1430463414.py:7: DeprecationWarning: Accessing summary data through MPRester.summary is deprecated. Please use MPRester.materials.summary instead.\n",
      "  results = m.summary.search(material_ids=[id], fields=[\"material_id\", \"bulk_modulus\", \"shear_modulus\"])\n",
      "Retrieving SummaryDoc documents: 100%|██████████| 1/1 [00:00<?, ?it/s]"
     ]
    },
    {
     "name": "stdout",
     "output_type": "stream",
     "text": [
      "Material ID: mp-66\n",
      "Bulk Modulus (GPa): {'voigt': 435.156, 'reuss': 435.156, 'vrh': 435.156}\n",
      "Shear Modulus (GPa): {'voigt': 522.224, 'reuss': 517.677, 'vrh': 519.951}\n"
     ]
    },
    {
     "name": "stderr",
     "output_type": "stream",
     "text": [
      "\n"
     ]
    }
   ],
   "source": [
    "bulk_modulus, shear_modulus = get_material()\n",
    "A, f = generate_grid_stiffness(n, bulk_modulus, shear_modulus)"
   ]
  },
  {
   "cell_type": "code",
   "execution_count": 7,
   "id": "5b96d752",
   "metadata": {},
   "outputs": [],
   "source": [
    "def transform_matrix_to_unit_interval(A, m=10):\n",
    "    \"\"\"\n",
    "    Transform a Hermitian matrix A such that its eigenvalues are in the range (0, 1).\n",
    "    \n",
    "    Parameters:\n",
    "        A (ndarray): Hermitian matrix.\n",
    "        m (int): Determines how close eigenvalues will get to 1. Default is 10.\n",
    "    \n",
    "    Returns:\n",
    "        A_tilde (ndarray): Transformed matrix with eigenvalues in (0, 1).\n",
    "        transform_info (dict): Dictionary containing original min/max eigenvalues and scaling factors.\n",
    "    \"\"\"\n",
    "    # Ensure matrix is Hermitian\n",
    "    if not np.allclose(A, A.conj().T):\n",
    "        raise ValueError(\"Matrix A must be Hermitian.\")\n",
    "    \n",
    "    # Compute eigenvalues\n",
    "    eigvals = np.linalg.eigvalsh(A)\n",
    "    w_min = np.min(eigvals)\n",
    "    w_max = np.max(eigvals)\n",
    "\n",
    "    if w_min == w_max:\n",
    "        raise ValueError(\"Matrix has constant eigenvalues; can't scale uniquely.\")\n",
    "\n",
    "    # Construct transformation constants\n",
    "    shift = w_min\n",
    "    scale_factor = (1 - 1 / (2 ** m)) / (w_min + w_max)\n",
    "\n",
    "    # Apply transformation\n",
    "    A_tilde = (A + shift * np.eye(A.shape[0])) * scale_factor\n",
    "\n",
    "    return A_tilde, {\n",
    "        \"w_min\": w_min,\n",
    "        \"w_max\": w_max,\n",
    "        \"shift\": shift,\n",
    "        \"scale_factor\": scale_factor\n",
    "    }\n",
    "\n",
    "\n",
    "\n"
   ]
  },
  {
   "cell_type": "code",
   "execution_count": 8,
   "id": "15d6fb9a",
   "metadata": {},
   "outputs": [
    {
     "name": "stdout",
     "output_type": "stream",
     "text": [
      "Original eigenvalue range: [2506473600665.2134, 23741658713118.1484]\n",
      "Transformed matrix eigenvalues: [0.1907965  0.31567443 0.31567443 0.44055236 0.47003204 0.47003204\n",
      " 0.59490997 0.59490997 0.59490997 0.59490997 0.7197879  0.7197879\n",
      " 0.74926758 0.87414551 0.87414551 0.99902344]\n",
      "A = [[ 0.59490997 -0.12487793  0.          0.         -0.12487793  0.\n",
      "   0.          0.          0.          0.          0.          0.\n",
      "   0.          0.          0.          0.        ]\n",
      " [-0.12487793  0.59490997 -0.12487793  0.          0.         -0.12487793\n",
      "   0.          0.          0.          0.          0.          0.\n",
      "   0.          0.          0.          0.        ]\n",
      " [ 0.         -0.12487793  0.59490997 -0.12487793  0.          0.\n",
      "  -0.12487793  0.          0.          0.          0.          0.\n",
      "   0.          0.          0.          0.        ]\n",
      " [ 0.          0.         -0.12487793  0.59490997  0.          0.\n",
      "   0.         -0.12487793  0.          0.          0.          0.\n",
      "   0.          0.          0.          0.        ]\n",
      " [-0.12487793  0.          0.          0.          0.59490997 -0.12487793\n",
      "   0.          0.         -0.12487793  0.          0.          0.\n",
      "   0.          0.          0.          0.        ]\n",
      " [ 0.         -0.12487793  0.          0.         -0.12487793  0.59490997\n",
      "  -0.12487793  0.          0.         -0.12487793  0.          0.\n",
      "   0.          0.          0.          0.        ]\n",
      " [ 0.          0.         -0.12487793  0.          0.         -0.12487793\n",
      "   0.59490997 -0.12487793  0.          0.         -0.12487793  0.\n",
      "   0.          0.          0.          0.        ]\n",
      " [ 0.          0.          0.         -0.12487793  0.          0.\n",
      "  -0.12487793  0.59490997  0.          0.          0.         -0.12487793\n",
      "   0.          0.          0.          0.        ]\n",
      " [ 0.          0.          0.          0.         -0.12487793  0.\n",
      "   0.          0.          0.59490997 -0.12487793  0.          0.\n",
      "  -0.12487793  0.          0.          0.        ]\n",
      " [ 0.          0.          0.          0.          0.         -0.12487793\n",
      "   0.          0.         -0.12487793  0.59490997 -0.12487793  0.\n",
      "   0.         -0.12487793  0.          0.        ]\n",
      " [ 0.          0.          0.          0.          0.          0.\n",
      "  -0.12487793  0.          0.         -0.12487793  0.59490997 -0.12487793\n",
      "   0.          0.         -0.12487793  0.        ]\n",
      " [ 0.          0.          0.          0.          0.          0.\n",
      "   0.         -0.12487793  0.          0.         -0.12487793  0.59490997\n",
      "   0.          0.          0.         -0.12487793]\n",
      " [ 0.          0.          0.          0.          0.          0.\n",
      "   0.          0.         -0.12487793  0.          0.          0.\n",
      "   0.59490997 -0.12487793  0.          0.        ]\n",
      " [ 0.          0.          0.          0.          0.          0.\n",
      "   0.          0.          0.         -0.12487793  0.          0.\n",
      "  -0.12487793  0.59490997 -0.12487793  0.        ]\n",
      " [ 0.          0.          0.          0.          0.          0.\n",
      "   0.          0.          0.          0.         -0.12487793  0.\n",
      "   0.         -0.12487793  0.59490997 -0.12487793]\n",
      " [ 0.          0.          0.          0.          0.          0.\n",
      "   0.          0.          0.          0.          0.         -0.12487793\n",
      "   0.          0.         -0.12487793  0.59490997]] \n",
      "\n",
      "b = [ 0.  0.  0.  0.  0.  0.  0.  0. -1.  0.  0.  0.  0.  0.  0.  0.]\n",
      "\n",
      "Eigenvalues:\n",
      "0.0011000011011000000010100001001 =~ 0.190796498783622\n",
      "0.0101000011010000000010100001001 =~ 0.3156744284711219\n",
      "0.0101000011010000000010100001001 =~ 0.31567442847112254\n",
      "0.0111000011001000000010100001001 =~ 0.4405523581586226\n",
      "0.01111000010101000000010100001001 =~ 0.4700320384543109\n",
      "0.01111000010101000000010100001001 =~ 0.4700320384543117\n",
      "0.10011000010011000000010100001001 =~ 0.5949099681418109\n",
      "0.10011000010011000000010100001001 =~ 0.5949099681418113\n",
      "0.10011000010011000000010100001001 =~ 0.5949099681418114\n",
      "0.10011000010011000000010100001001 =~ 0.5949099681418114\n",
      "0.10111000010001000000010100001001 =~ 0.7197878978293114\n",
      "0.10111000010001000000010100001001 =~ 0.7197878978293114\n",
      "0.101111111101 =~ 0.7492675781250009\n",
      "0.1101111111001 =~ 0.8741455078125011\n",
      "0.1101111111001 =~ 0.874145507812502\n",
      "0.11111111101111111111111111111111 =~ 0.9990234374999998\n"
     ]
    }
   ],
   "source": [
    "import numpy as np\n",
    "\n",
    "# Normalize vector b\n",
    "b = f / np.linalg.norm(f)\n",
    "A, info = transform_matrix_to_unit_interval(A)\n",
    "print(\"Original eigenvalue range: [{:.4f}, {:.4f}]\".format(info[\"w_min\"], info[\"w_max\"]))\n",
    "print(\"Transformed matrix eigenvalues:\", np.linalg.eigvalsh(A))\n",
    "\n",
    "print(\"A =\", A, \"\\n\")\n",
    "print(\"b =\", b)\n",
    "\n",
    "# Verify if the matrix is symmetric and has eigenvalues in (0,1)\n",
    "if not np.allclose(A, A.T, rtol=1e-6, atol=1e-6):\n",
    "    raise Exception(\"The matrix is not symmetric\")\n",
    "w, v = np.linalg.eig(A)\n",
    "for lam in w:\n",
    "    if lam < 0 or lam > 1:\n",
    "        raise Exception(\"Eigenvalues are not in (0,1)\")\n",
    "\n",
    "# Binary representation of eigenvalues (classically calculated)\n",
    "m = 32  # Precision of a binary representation, e.g. 32 binary digits\n",
    "sign = lambda num: \"-\" if num < 0 else \"\"  # Calculate sign of a number\n",
    "binary = lambda fraction: str(\n",
    "    np.binary_repr(int(np.abs(fraction) * 2 ** (m))).zfill(m)\n",
    ").rstrip(\n",
    "    \"0\"\n",
    ")  # Binary representation of a fraction\n",
    "\n",
    "print()\n",
    "print(\"Eigenvalues:\")\n",
    "for eig in sorted(w):\n",
    "    print(f\"{sign(eig)}0.{binary(eig.real)} =~ {eig.real}\")"
   ]
  },
  {
   "cell_type": "code",
   "execution_count": 9,
   "id": "6d576281",
   "metadata": {},
   "outputs": [
    {
     "name": "stdout",
     "output_type": "stream",
     "text": [
      "Pauli strings list: \n",
      "\n",
      "[<Pauli.I: 0>, <Pauli.I: 0>, <Pauli.I: 0>, <Pauli.I: 0>] :  0.595\n",
      "[<Pauli.I: 0>, <Pauli.I: 0>, <Pauli.I: 0>, <Pauli.X: 1>] :  -0.125\n",
      "[<Pauli.I: 0>, <Pauli.I: 0>, <Pauli.X: 1>, <Pauli.X: 1>] :  -0.062\n",
      "[<Pauli.I: 0>, <Pauli.I: 0>, <Pauli.Y: 2>, <Pauli.Y: 2>] :  -0.062\n",
      "[<Pauli.I: 0>, <Pauli.X: 1>, <Pauli.I: 0>, <Pauli.I: 0>] :  -0.125\n",
      "[<Pauli.X: 1>, <Pauli.X: 1>, <Pauli.I: 0>, <Pauli.I: 0>] :  -0.062\n",
      "[<Pauli.Y: 2>, <Pauli.Y: 2>, <Pauli.I: 0>, <Pauli.I: 0>] :  -0.062\n",
      "\n",
      "Number of qubits for matrix representation = 4\n"
     ]
    }
   ],
   "source": [
    "from classiq import *\n",
    "\n",
    "hamiltonian = matrix_to_hamiltonian(A)\n",
    "n = len(hamiltonian[0].pauli)\n",
    "print(\"Pauli strings list: \\n\")\n",
    "for pterm in hamiltonian:\n",
    "    print(pterm.pauli, \": \", np.round(pterm.coefficient, 3))\n",
    "\n",
    "print(\"\\nNumber of qubits for matrix representation =\", n)"
   ]
  },
  {
   "cell_type": "code",
   "execution_count": 10,
   "id": "73d917bb",
   "metadata": {},
   "outputs": [],
   "source": [
    "@qfunc\n",
    "def load_b(\n",
    "    amplitudes: CArray[CReal], state: Output[QArray[QBit]], bound: CReal\n",
    ") -> None:\n",
    "    prepare_amplitudes(amplitudes, bound, state)"
   ]
  },
  {
   "cell_type": "code",
   "execution_count": 11,
   "id": "52dc331c",
   "metadata": {},
   "outputs": [],
   "source": [
    "from classiq.qmod.symbolic import floor, log\n",
    "\n",
    "# Parameters for the initial state preparation\n",
    "amplitudes = b.tolist()\n",
    "\n",
    "# Parameters for the QPE\n",
    "precision = 4\n",
    "\n",
    "\n",
    "@qfunc\n",
    "def simple_eig_inv(phase: QNum, indicator: Output[QBit]):\n",
    "    allocate(1, indicator)\n",
    "    C = 1 / 2**phase.size\n",
    "    indicator *= C / phase\n",
    "\n",
    "\n",
    "@qfunc\n",
    "def hhl(\n",
    "    rhs_vector: CArray[CReal],\n",
    "    bound: CReal,\n",
    "    precision: CInt,\n",
    "    hamiltonian_evolution_with_power: QCallable[CInt, QArray[QBit]],\n",
    "    state: Output[QArray[QBit]],\n",
    "    phase: Output[QNum],\n",
    "    indicator: Output[QBit],\n",
    "):\n",
    "    # Allocate a quantum number for the phase with given precision\n",
    "    allocate_num(precision, False, precision, phase)\n",
    "\n",
    "    # Prepare initial state\n",
    "    load_b(amplitudes=amplitudes, state=state, bound=bound)\n",
    "\n",
    "    # Perform quantum phase estimation and eigenvalue inversion within a quantum operation\n",
    "    within_apply(\n",
    "        lambda: qpe_flexible(\n",
    "            unitary_with_power=lambda k: hamiltonian_evolution_with_power(k, state),\n",
    "            phase=phase,\n",
    "        ),\n",
    "        lambda: simple_eig_inv(phase=phase, indicator=indicator),\n",
    "    )"
   ]
  },
  {
   "cell_type": "code",
   "execution_count": 12,
   "id": "1f75b984",
   "metadata": {},
   "outputs": [],
   "source": [
    "from classiq.execution import (\n",
    "    ClassiqBackendPreferences,\n",
    "    ClassiqSimulatorBackendNames,\n",
    "    ExecutionPreferences,\n",
    ")\n",
    "\n",
    "backend_preferences = ClassiqBackendPreferences(\n",
    "    backend_name=ClassiqSimulatorBackendNames.SIMULATOR_STATEVECTOR\n",
    ")\n",
    "\n",
    "\n",
    "# Construct a representation of HHL model\n",
    "def hhl_model(main, backend_preferences):\n",
    "    qmod_hhl = create_model(\n",
    "        main,\n",
    "        execution_preferences=ExecutionPreferences(\n",
    "            num_shots=1, backend_preferences=backend_preferences\n",
    "        ),\n",
    "    )\n",
    "    return qmod_hhl"
   ]
  },
  {
   "cell_type": "code",
   "execution_count": 13,
   "id": "b8cd2479",
   "metadata": {},
   "outputs": [],
   "source": [
    "def read_positions(circuit_hhl, res_hhl):\n",
    "    # positions of control qubit\n",
    "    target_pos = res_hhl.physical_qubits_map[\"indicator\"][0]\n",
    "\n",
    "    # positions of solution\n",
    "    sol_pos = list(res_hhl.physical_qubits_map[\"res\"])\n",
    "\n",
    "    # Finds the position of the \"phase\" register and flips for endianness, as you will use the indices to read directly from the string\n",
    "    total_q = circuit_hhl.data.width  # total number of qubits of the whole circuit\n",
    "    phase_pos = [\n",
    "        total_q - k - 1 for k in range(total_q) if k not in sol_pos + [target_pos]\n",
    "    ]\n",
    "    return target_pos, sol_pos, phase_pos"
   ]
  },
  {
   "cell_type": "code",
   "execution_count": 14,
   "id": "85a86f22",
   "metadata": {},
   "outputs": [],
   "source": [
    "def quantum_solution(circuit_hhl, res_hhl, precision):\n",
    "    target_pos, sol_pos, phase_pos = read_positions(circuit_hhl, res_hhl)\n",
    "\n",
    "    # Read Quantum solution from the entries of `res` registers, where the target register `indicator` is 1 and the `phase` register is in state |0>^m\n",
    "    qsol = [\n",
    "        np.round(parsed_state.amplitude / (1 / 2**precision), 5)\n",
    "        for solution in range(2**n)\n",
    "        for parsed_state in res_hhl.parsed_state_vector\n",
    "        if parsed_state[\"indicator\"] == 1.0\n",
    "        and parsed_state[\"res\"] == solution\n",
    "        and [parsed_state.bitstring[k] for k in phase_pos] == [\"0\"] * precision\n",
    "    ]\n",
    "\n",
    "    return qsol"
   ]
  },
  {
   "cell_type": "code",
   "execution_count": null,
   "id": "eb7c9d46",
   "metadata": {},
   "outputs": [],
   "source": [
    "import matplotlib.pyplot as plt\n",
    "\n",
    "\n",
    "def quantum_solution_preprocessed(A, b, circuit_hhl, res_hhl, precision, disp=True):\n",
    "    # Classical solution\n",
    "    sol_classical = np.linalg.solve(A, b)\n",
    "    if disp:\n",
    "        print(\"Classical Solution:         \", sol_classical)\n",
    "\n",
    "    # Quantum solution with postselection\n",
    "    qsol = quantum_solution(circuit_hhl, res_hhl, precision)\n",
    "    if disp:\n",
    "        print(\"Quantum Solution:           \", np.abs(qsol) / np.linalg.norm(qsol))\n",
    "\n",
    "    # Global phase from one element, e.g. qsol[0]\n",
    "    global_phase = np.angle(qsol[0])\n",
    "\n",
    "    # Preprocessed quantum solution\n",
    "    qsol_corrected = np.real(qsol / np.exp(1j * global_phase))\n",
    "\n",
    "    # Correct ambiguity in the sign\n",
    "    qsol_corrected = (\n",
    "        np.sign(qsol_corrected[0]) * np.sign(sol_classical[0]) * qsol_corrected\n",
    "    )\n",
    "\n",
    "    return sol_classical, qsol_corrected\n",
    "\n",
    "\n",
    "def show_solutions(A, b, circuit_hhl, res_hhl, precision, check=True, disp=True):\n",
    "    # Classical solution and preprocessed quantum solution\n",
    "    sol_classical, qsol_corrected = quantum_solution_preprocessed(\n",
    "        A, b, circuit_hhl, res_hhl, QPE_SIZE, disp=disp\n",
    "    )\n",
    "\n",
    "    # Verify is there is no functional error, which might come from changing endianness in Model or Execution\n",
    "    if (\n",
    "        np.linalg.norm(sol_classical - qsol_corrected) / np.linalg.norm(sol_classical)\n",
    "        > 0.1\n",
    "        and check\n",
    "    ):\n",
    "        raise Exception(\n",
    "            \"The HHL solution is too far from the classical one, please verify your algorithm\"\n",
    "        )\n",
    "\n",
    "    if disp:\n",
    "        print(\"Corrected Quantum Solution: \", qsol_corrected)\n",
    "\n",
    "    # Fidelity\n",
    "    state_classical = sol_classical / np.linalg.norm(sol_classical)\n",
    "    state_corrected = qsol_corrected / np.linalg.norm(qsol_corrected)\n",
    "    fidelity = np.abs(np.dot(state_classical, state_corrected)) ** 2\n",
    "    print()\n",
    "    print(\"Fidelity:                   \", f\"{np.round(fidelity * 100,2)} %\")\n",
    "\n",
    "    if disp:\n",
    "        plt.plot(sol_classical, \"bo\", label=\"Classical\")\n",
    "        plt.plot(qsol_corrected, \"ro\", label=\"HHL\")\n",
    "        plt.legend()\n",
    "        plt.xlabel(\"$i$\")\n",
    "        plt.ylabel(\"$x_i$\")\n",
    "        plt.show()\n",
    "    return qsol_corrected"
   ]
  },
  {
   "cell_type": "code",
   "execution_count": 16,
   "id": "bddf7ba6",
   "metadata": {},
   "outputs": [],
   "source": [
    "from typing import List\n",
    "\n",
    "import scipy\n",
    "\n",
    "from classiq import Output, create_model, power, prepare_amplitudes, synthesize, unitary\n",
    "from classiq.qmod.symbolic import floor, log\n",
    "\n",
    "# Parameters for the initial state preparation\n",
    "amplitudes = b.tolist()\n",
    "\n",
    "# Parameters for the QPE\n",
    "QPE_SIZE = 4\n",
    "\n",
    "\n",
    "@qfunc\n",
    "def unitary_with_power_logic(\n",
    "    pw: CInt, matrix: CArray[CArray[CReal]], target: QArray[QBit]\n",
    ") -> None:\n",
    "    power(pw, lambda: unitary(elements=matrix, target=target))\n",
    "\n",
    "\n",
    "@qfunc\n",
    "def main(\n",
    "    res: Output[QNum],\n",
    "    phase: Output[QNum],\n",
    "    indicator: Output[QBit],\n",
    ") -> None:\n",
    "    hhl(\n",
    "        rhs_vector=amplitudes,\n",
    "        bound=0,\n",
    "        precision=QPE_SIZE,\n",
    "        hamiltonian_evolution_with_power=lambda arg0, arg1: unitary_with_power_logic(\n",
    "            matrix=scipy.linalg.expm(2 * np.pi * 1j * A).tolist(), pw=arg0, target=arg1\n",
    "        ),\n",
    "        state=res,\n",
    "        phase=phase,\n",
    "        indicator=indicator,\n",
    "    )"
   ]
  },
  {
   "cell_type": "code",
   "execution_count": 17,
   "id": "c4e9314e",
   "metadata": {},
   "outputs": [],
   "source": [
    "# Construct HHL model\n",
    "qmod_hhl_exact = hhl_model(main, backend_preferences)"
   ]
  },
  {
   "cell_type": "code",
   "execution_count": 18,
   "id": "6dbb0025",
   "metadata": {},
   "outputs": [],
   "source": [
    "from classiq import write_qmod\n",
    "\n",
    "# Save qmod file\n",
    "write_qmod(qmod_hhl_exact, \"hhl_exact\", decimal_precision=20)"
   ]
  },
  {
   "cell_type": "code",
   "execution_count": 20,
   "id": "8111020a",
   "metadata": {},
   "outputs": [
    {
     "name": "stdout",
     "output_type": "stream",
     "text": [
      "Quantum program link: https://platform.classiq.io/circuit/2vfrjJ5guusZZ1RTFaRHyAkIzsS?login=True&version=0.75.0\n",
      "Circuit depth =  9700\n",
      "Circuit CX count =  6296\n"
     ]
    }
   ],
   "source": [
    "qprog_hhl_exact = synthesize(qmod_hhl_exact)\n",
    "show(qprog_hhl_exact)\n",
    "\n",
    "circuit_hhl_exact = QuantumProgram.from_qprog(qprog_hhl_exact)\n",
    "print(\"Circuit depth = \", circuit_hhl_exact.transpiled_circuit.depth)\n",
    "print(\"Circuit CX count = \", circuit_hhl_exact.transpiled_circuit.count_ops[\"cx\"])"
   ]
  },
  {
   "cell_type": "code",
   "execution_count": 21,
   "id": "523011f3",
   "metadata": {},
   "outputs": [],
   "source": [
    "from classiq.execution import ExecutionDetails\n",
    "\n",
    "res_hhl_exact = execute(qprog_hhl_exact).result_value()"
   ]
  },
  {
   "cell_type": "code",
   "execution_count": 22,
   "id": "b336cab3",
   "metadata": {},
   "outputs": [
    {
     "data": {
      "text/plain": [
       "[(0.08903-0.04132j),\n",
       " (0.13435-0.06236j),\n",
       " (-0.0039+0.00181j),\n",
       " (0.0426-0.01977j),\n",
       " (0.50325-0.23359j),\n",
       " (0.15292-0.07098j),\n",
       " (0.17696-0.08213j),\n",
       " (0.00244-0.00113j),\n",
       " (1.8379-0.85307j),\n",
       " (0.59462-0.27599j),\n",
       " (0.08513-0.03952j),\n",
       " (0.08559-0.03973j),\n",
       " (0.46026-0.21363j),\n",
       " (0.13168-0.06112j),\n",
       " (0.13435-0.06236j),\n",
       " (0.02124-0.00986j)]"
      ]
     },
     "execution_count": 22,
     "metadata": {},
     "output_type": "execute_result"
    }
   ],
   "source": [
    "qsol = quantum_solution(circuit_hhl_exact, res_hhl_exact, precision)\n",
    "qsol"
   ]
  },
  {
   "cell_type": "code",
   "execution_count": 23,
   "id": "d9e3eb9e",
   "metadata": {},
   "outputs": [
    {
     "name": "stdout",
     "output_type": "stream",
     "text": [
      "Classical Solution:          [-0.12461985 -0.09142675 -0.04565846 -0.01733016 -0.50225376 -0.2652725\n",
      " -0.10875691 -0.03690124 -2.0028104  -0.56130273 -0.17027832 -0.04970794\n",
      " -0.46987598 -0.23564682 -0.09142675 -0.02962567]\n",
      "Quantum Solution:            [0.04278702 0.06456857 0.0018743  0.02047295 0.24186201 0.07349341\n",
      " 0.08504548 0.0011722  0.88329221 0.28577251 0.04091455 0.04113499\n",
      " 0.22119998 0.06328525 0.06456857 0.01020816]\n",
      "Corrected Quantum Solution:  [-0.09815133 -0.14811716  0.00429955 -0.04696395 -0.55481966 -0.16859029\n",
      " -0.19509018 -0.00268896 -2.02622921 -0.65554819 -0.09385599 -0.09436165\n",
      " -0.50742196 -0.14517326 -0.14811716 -0.02341703]\n",
      "\n",
      "Fidelity:                    98.93 %\n"
     ]
    },
    {
     "data": {
      "image/png": "[encoded data removed]",
      "text/plain": [
       "<Figure size 640x480 with 1 Axes>"
      ]
     },
     "metadata": {},
     "output_type": "display_data"
    },
    {
     "data": {
      "text/plain": [
       "array([-0.04278702, -0.06456857,  0.0018743 , -0.02047295, -0.24186201,\n",
       "       -0.07349341, -0.08504548, -0.00117219, -0.88329221, -0.28577251,\n",
       "       -0.04091455, -0.04113499, -0.22119998, -0.06328525, -0.06456857,\n",
       "       -0.01020816])"
      ]
     },
     "execution_count": 23,
     "metadata": {},
     "output_type": "execute_result"
    }
   ],
   "source": [
    "precision = QPE_SIZE\n",
    "show_solutions(A, b, circuit_hhl_exact, res_hhl_exact, precision, check=False)"
   ]
  },
  {
   "cell_type": "code",
   "execution_count": 24,
   "id": "c3ef326d",
   "metadata": {},
   "outputs": [
    {
     "ename": "AttributeError",
     "evalue": "'list' object has no attribute 'reshape'",
     "output_type": "error",
     "traceback": [
      "\u001b[1;31m---------------------------------------------------------------------------\u001b[0m",
      "\u001b[1;31mAttributeError\u001b[0m                            Traceback (most recent call last)",
      "Cell \u001b[1;32mIn[24], line 1\u001b[0m\n\u001b[1;32m----> 1\u001b[0m \u001b[43mplot_displacement\u001b[49m\u001b[43m(\u001b[49m\u001b[43mqsol\u001b[49m\u001b[43m,\u001b[49m\u001b[43mn\u001b[49m\u001b[43m)\u001b[49m\n",
      "Cell \u001b[1;32mIn[5], line 3\u001b[0m, in \u001b[0;36mplot_displacement\u001b[1;34m(u, n)\u001b[0m\n\u001b[0;32m      1\u001b[0m \u001b[38;5;28;01mdef\u001b[39;00m \u001b[38;5;21mplot_displacement\u001b[39m(u, n):\n\u001b[0;32m      2\u001b[0m     X, Y \u001b[38;5;241m=\u001b[39m np\u001b[38;5;241m.\u001b[39mmeshgrid(\u001b[38;5;28mrange\u001b[39m(n), \u001b[38;5;28mrange\u001b[39m(n))\n\u001b[1;32m----> 3\u001b[0m     U \u001b[38;5;241m=\u001b[39m \u001b[43mu\u001b[49m\u001b[38;5;241;43m.\u001b[39;49m\u001b[43mreshape\u001b[49m((n, n))\n\u001b[0;32m      4\u001b[0m     fig \u001b[38;5;241m=\u001b[39m plt\u001b[38;5;241m.\u001b[39mfigure()\n\u001b[0;32m      5\u001b[0m     ax \u001b[38;5;241m=\u001b[39m fig\u001b[38;5;241m.\u001b[39madd_subplot(projection\u001b[38;5;241m=\u001b[39m\u001b[38;5;124m'\u001b[39m\u001b[38;5;124m3d\u001b[39m\u001b[38;5;124m'\u001b[39m)\n",
      "\u001b[1;31mAttributeError\u001b[0m: 'list' object has no attribute 'reshape'"
     ]
    }
   ],
   "source": [
    "plot_displacement(qsol,n)"
   ]
  }
 ],
 "metadata": {
  "kernelspec": {
   "display_name": "Python 3",
   "language": "python",
   "name": "python3"
  },
  "language_info": {
   "codemirror_mode": {
    "name": "ipython",
    "version": 3
   },
   "file_extension": ".py",
   "mimetype": "text/x-python",
   "name": "python",
   "nbconvert_exporter": "python",
   "pygments_lexer": "ipython3",
   "version": "3.12.6"
  }
 },
 "nbformat": 4,
 "nbformat_minor": 5
}
